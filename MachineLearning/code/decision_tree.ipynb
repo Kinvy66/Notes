{
 "metadata": {
  "language_info": {
   "codemirror_mode": {
    "name": "ipython",
    "version": 3
   },
   "file_extension": ".py",
   "mimetype": "text/x-python",
   "name": "python",
   "nbconvert_exporter": "python",
   "pygments_lexer": "ipython3",
   "version": "3.8.7"
  },
  "orig_nbformat": 2,
  "kernelspec": {
   "name": "python387jvsc74a57bd038740d3277777e2cd7c6c2cc9d8addf5118fdf3f82b1b39231fd12aeac8aee8b",
   "display_name": "Python 3.8.7 64-bit"
  },
  "metadata": {
   "interpreter": {
    "hash": "38740d3277777e2cd7c6c2cc9d8addf5118fdf3f82b1b39231fd12aeac8aee8b"
   }
  }
 },
 "nbformat": 4,
 "nbformat_minor": 2,
 "cells": [
  {
   "source": [
    "# 训练数据集\n"
   ],
   "cell_type": "markdown",
   "metadata": {}
  },
  {
   "cell_type": "code",
   "execution_count": 3,
   "metadata": {},
   "outputs": [],
   "source": [
    "dataSet = [[1, '青绿', '蜷缩', '浊响', '清晰', '凹陷', '硬滑', '是'],\n",
    "           [2, '乌黑', '蜷缩', '沉闷', '清晰', '凹陷', '硬滑', '是'],\n",
    "           [3, '乌黑', '蜷缩', '浊响', '清晰', '凹陷', '硬滑', '是'],\n",
    "           [4, '青绿', '蜷缩', '沉闷', '清晰', '凹陷', '硬滑', '是'],\n",
    "           [5, '浅白', '蜷缩', '浊响', '清晰', '凹陷', '硬滑', '是'],\n",
    "           [6, '青绿', '稍蜷', '浊响', '清晰', '稍凹', '软粘', '是'],\n",
    "           [7, '乌黑', '稍蜷', '浊响', '稍糊', '稍凹', '软粘', '是'],\n",
    "           [8, '乌黑', '稍蜷', '浊响', '清晰', '稍凹', '硬滑', '是'],\n",
    "           [9, '乌黑', '稍蜷', '沉闷', '稍糊', '稍凹', '硬滑', '否'],\n",
    "           [10, '青绿', '硬挺', '清脆', '清晰', '平坦', '软粘', '否'],\n",
    "           [11, '浅白', '硬挺', '清脆', '模糊', '平坦', '硬滑', '否'],\n",
    "           [12, '浅白', '蜷缩', '浊响', '模糊', '平坦', '软粘', '否'],\n",
    "           [13, '青绿', '稍蜷', '浊响', '稍糊', '凹陷', '硬滑', '否'],\n",
    "           [14, '浅白', '稍蜷', '沉闷', '稍糊', '凹陷', '硬滑', '否'],\n",
    "           [15, '乌黑', '稍蜷', '浊响', '清晰', '稍凹', '软粘', '否'],\n",
    "           [16, '浅白', '蜷缩', '浊响', '模糊', '平坦', '硬滑', '否'],\n",
    "           [17, '青绿', '蜷缩', '沉闷', '稍糊', '稍凹', '硬滑', '否'],]\n",
    "\n",
    "labels = ['编号', '色泽', '根蒂', '敲声', '纹理', '脐纹', '触感', '好瓜']"
   ]
  },
  {
   "cell_type": "code",
   "execution_count": 6,
   "metadata": {},
   "outputs": [
    {
     "output_type": "stream",
     "name": "stdout",
     "text": [
      "17\n"
     ]
    }
   ],
   "source": [
    "num_entries = len(dataSet)\n",
    "print(num_entries)"
   ]
  },
  {
   "source": [
    "label_counts={}\n",
    "for feat_vec in dataSet:\n",
    "    current_label = feat_vec[1]\n",
    "    if current_label not in label_counts.keys():\n",
    "        label_counts[current_label] = 0\n",
    "    label_counts[current_label] += 1\n",
    "print(label_counts)"
   ],
   "cell_type": "code",
   "metadata": {},
   "execution_count": 12,
   "outputs": [
    {
     "output_type": "stream",
     "name": "stdout",
     "text": [
      "{'青绿': 6, '乌黑': 6, '浅白': 5}\n"
     ]
    }
   ]
  }
 ]
}